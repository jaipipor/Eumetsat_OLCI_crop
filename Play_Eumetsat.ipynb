{
 "cells": [
  {
   "cell_type": "code",
   "execution_count": 79,
   "id": "55e5a81a-38ad-4254-80de-8ff098ca9745",
   "metadata": {},
   "outputs": [],
   "source": [
    "import eumdac\n",
    "import datetime\n",
    "import time\n",
    "import requests\n",
    "import shutil"
   ]
  },
  {
   "cell_type": "code",
   "execution_count": 80,
   "id": "ba07e367-0700-41e7-aba9-455ee9db919b",
   "metadata": {},
   "outputs": [
    {
     "name": "stdout",
     "output_type": "stream",
     "text": [
      "This token '50f71c13-777e-364b-b2ef-20493bb8c22f' expires 2024-02-04 18:45:43.735543\n"
     ]
    }
   ],
   "source": [
    "# Insert your personal key and secret into the single quotes\n",
    "\n",
    "consumer_key = '5_eGO8r3VoGpV9aHduc_UdRCfNga'\n",
    "consumer_secret = '5uVSILeZ96Bv16OO3ZTiGjZA5ysa'\n",
    "\n",
    "credentials = (consumer_key, consumer_secret)\n",
    "\n",
    "token = eumdac.AccessToken(credentials)\n",
    "\n",
    "#try:\n",
    "#    print(f\"This token '{token}' expires {token.expiration}\")\n",
    "#except requests.exceptions.HTTPError as exc:\n",
    "#    print(f\"Error when tryng the request to the server: '{exc}'\")"
   ]
  },
  {
   "cell_type": "code",
   "execution_count": 81,
   "id": "b9b5a146-5ecb-4f0d-82df-7a8f556e4aaf",
   "metadata": {},
   "outputs": [],
   "source": [
    "datastore = eumdac.DataStore(token)"
   ]
  },
  {
   "cell_type": "code",
   "execution_count": 82,
   "id": "a4e309a6-bbe8-496e-803a-12bbcbfca89a",
   "metadata": {},
   "outputs": [],
   "source": [
    "selected_collection = datastore.get_collection('EO:EUM:DAT:0409')\n",
    "\n",
    "#try:\n",
    "#    display(selected_collection.search_options)\n",
    "#except eumdac.datastore.DataStoreError as error:\n",
    "#    print(f\"Error related to the data store: '{error.msg}'\")\n",
    "#except eumdac.collection.CollectionError as error:\n",
    "#    print(f\"Error related to the collection: '{error.msg}'\")\n",
    "#except requests.exceptions.RequestException as error:\n",
    "#    print(f\"Unexpected error: {error}\")"
   ]
  },
  {
   "cell_type": "code",
   "execution_count": 84,
   "id": "675e742b-e9b1-4ce6-8d82-d868002a365a",
   "metadata": {},
   "outputs": [],
   "source": [
    "# Set bounding-box coordinates\n",
    "area = '-0.4,39.3,-0.3,39.4'\n",
    "\n",
    "# Set sensing start and end time\n",
    "start = datetime.datetime(2016,1,1,0,0)\n",
    "end = datetime.datetime(2024,11,10,0,0)\n",
    "\n",
    "# Retrieve datasets that match our filter\n",
    "products = selected_collection.search(\n",
    "    bbox=area,\n",
    "    dtstart=start, \n",
    "    dtend=end\n",
    ")\n",
    "\n",
    "#try:\n",
    "#    print(f'Found Datasets: {len(products)} datasets for the given area of interest')\n",
    "#except eumdac.collection.CollectionError as error:\n",
    "#    print(f\"Error related to the collection: '{error.msg}'\")\n",
    "#except requests.exceptions.RequestException as error:\n",
    "#    print(f\"Unexpected error: {error}\")"
   ]
  },
  {
   "cell_type": "code",
   "execution_count": 86,
   "id": "0e3ff70f-eb7b-4841-8f2d-88ef57399e8d",
   "metadata": {},
   "outputs": [
    {
     "data": {
      "text/plain": [
       "{'total': 1,\n",
       " 'data': {'jaipipor': {'disk_quota_active': True,\n",
       "   'user_quota': 20000.0,\n",
       "   'space_usage_percentage': 0.015,\n",
       "   'space_usage': 3.051502,\n",
       "   'workspace_dir_size': 0.0,\n",
       "   'log_dir_size': 0.007604,\n",
       "   'output_dir_size': 2.950554,\n",
       "   'nr_customisations': 1,\n",
       "   'unit_of_size': 'MB'}}}"
      ]
     },
     "metadata": {},
     "output_type": "display_data"
    }
   ],
   "source": [
    "datatailor = eumdac.DataTailor(token)\n",
    "\n",
    "# To check if Data Tailor works as expected, we are requesting our quota information\n",
    "#try:\n",
    "#    display(datatailor.quota)\n",
    "#except eumdac.datatailor.DataTailorError as error:\n",
    "#    print(f\"Error related to the Data Tailor: '{error.msg}'\")\n",
    "#except requests.exceptions.RequestException as error:\n",
    "#    print(f\"Unexpected error: {error}\")"
   ]
  },
  {
   "cell_type": "code",
   "execution_count": 87,
   "id": "637e2693-1e39-4cbe-b481-5f93c546e49c",
   "metadata": {},
   "outputs": [],
   "source": [
    "# Defining the chain configuration\n",
    "chain = eumdac.tailor_models.Chain(\n",
    "    product='OLL1EFR',\n",
    "    format='netcdf4',\n",
    "    roi={\"NSWE\" : [39.4,39.3,-0.4,-0.3]}\n",
    ")\n",
    "\n",
    "datatailor.chains.create(chain)\n"
   ]
  },
  {
   "cell_type": "code",
   "execution_count": 95,
   "id": "ff69b615",
   "metadata": {},
   "outputs": [
    {
     "data": {
      "text/plain": [
       "eumdac.collection.SearchResults"
      ]
     },
     "execution_count": 95,
     "metadata": {},
     "output_type": "execute_result"
    }
   ],
   "source": [
    "type(products)\n",
    "# Send the customisation to Data Tailor Web Services\n",
    "#customisation = datatailor.new_customisation(products,chain)\n"
   ]
  },
  {
   "cell_type": "code",
   "execution_count": 96,
   "id": "759fe934",
   "metadata": {},
   "outputs": [
    {
     "ename": "AttributeError",
     "evalue": "module 'eumdac.datatailor' has no attribute 'CustomisationError'",
     "output_type": "error",
     "traceback": [
      "\u001b[1;31m---------------------------------------------------------------------------\u001b[0m",
      "\u001b[1;31mNameError\u001b[0m                                 Traceback (most recent call last)",
      "Cell \u001b[1;32mIn[96], line 2\u001b[0m\n\u001b[0;32m      1\u001b[0m \u001b[38;5;28;01mtry\u001b[39;00m:\n\u001b[1;32m----> 2\u001b[0m     \u001b[43mcustomisation\u001b[49m\u001b[38;5;241m.\u001b[39mdelete()\n\u001b[0;32m      3\u001b[0m \u001b[38;5;28;01mexcept\u001b[39;00m eumdac\u001b[38;5;241m.\u001b[39mdatatailor\u001b[38;5;241m.\u001b[39mCustomisationError \u001b[38;5;28;01mas\u001b[39;00m exc:\n",
      "\u001b[1;31mNameError\u001b[0m: name 'customisation' is not defined",
      "\nDuring handling of the above exception, another exception occurred:\n",
      "\u001b[1;31mAttributeError\u001b[0m                            Traceback (most recent call last)",
      "Cell \u001b[1;32mIn[96], line 3\u001b[0m\n\u001b[0;32m      1\u001b[0m \u001b[38;5;28;01mtry\u001b[39;00m:\n\u001b[0;32m      2\u001b[0m     customisation\u001b[38;5;241m.\u001b[39mdelete()\n\u001b[1;32m----> 3\u001b[0m \u001b[38;5;28;01mexcept\u001b[39;00m \u001b[43meumdac\u001b[49m\u001b[38;5;241;43m.\u001b[39;49m\u001b[43mdatatailor\u001b[49m\u001b[38;5;241;43m.\u001b[39;49m\u001b[43mCustomisationError\u001b[49m \u001b[38;5;28;01mas\u001b[39;00m exc:\n\u001b[0;32m      4\u001b[0m     \u001b[38;5;28mprint\u001b[39m(\u001b[38;5;124m\"\u001b[39m\u001b[38;5;124mCustomisation Error:\u001b[39m\u001b[38;5;124m\"\u001b[39m, exc)\n\u001b[0;32m      5\u001b[0m \u001b[38;5;28;01mexcept\u001b[39;00m requests\u001b[38;5;241m.\u001b[39mexceptions\u001b[38;5;241m.\u001b[39mRequestException \u001b[38;5;28;01mas\u001b[39;00m error:\n",
      "\u001b[1;31mAttributeError\u001b[0m: module 'eumdac.datatailor' has no attribute 'CustomisationError'"
     ]
    }
   ],
   "source": [
    "try:\n",
    "    customisation.delete()\n",
    "except eumdac.datatailor.CustomisationError as exc:\n",
    "    print(\"Customisation Error:\", exc)\n",
    "except requests.exceptions.RequestException as error:\n",
    "    print(\"Unexpected error:\", error)"
   ]
  }
 ],
 "metadata": {
  "kernelspec": {
   "display_name": "Python 3 (ipykernel)",
   "language": "python",
   "name": "python3"
  },
  "language_info": {
   "codemirror_mode": {
    "name": "ipython",
    "version": 3
   },
   "file_extension": ".py",
   "mimetype": "text/x-python",
   "name": "python",
   "nbconvert_exporter": "python",
   "pygments_lexer": "ipython3",
   "version": "3.11.6"
  }
 },
 "nbformat": 4,
 "nbformat_minor": 5
}
